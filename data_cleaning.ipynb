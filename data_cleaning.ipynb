{
 "cells": [
  {
   "cell_type": "code",
   "execution_count": 1,
   "metadata": {},
   "outputs": [],
   "source": [
    "import pandas as pd\n",
    "import numpy as np"
   ]
  },
  {
   "cell_type": "code",
   "execution_count": 2,
   "metadata": {},
   "outputs": [],
   "source": [
    "df = pd.read_csv('enhanced_sur_covid_19_eng.csv')"
   ]
  },
  {
   "cell_type": "code",
   "execution_count": 3,
   "metadata": {},
   "outputs": [
    {
     "name": "stdout",
     "output_type": "stream",
     "text": [
      "<class 'pandas.core.frame.DataFrame'>\n",
      "RangeIndex: 15441 entries, 0 to 15440\n",
      "Data columns (total 10 columns):\n",
      " #   Column                            Non-Null Count  Dtype  \n",
      "---  ------                            --------------  -----  \n",
      " 0   Case no.                          15441 non-null  int64  \n",
      " 1   Report date                       15441 non-null  object \n",
      " 2   Date of onset                     15421 non-null  object \n",
      " 3   Gender                            15435 non-null  object \n",
      " 4   Age                               15435 non-null  object \n",
      " 5   Name of hospital admitted         0 non-null      float64\n",
      " 6   Hospitalised/Discharged/Deceased  15435 non-null  object \n",
      " 7   HK/Non-HK resident                15435 non-null  object \n",
      " 8   Classification*                   15435 non-null  object \n",
      " 9   Case status*                      15441 non-null  object \n",
      "dtypes: float64(1), int64(1), object(8)\n",
      "memory usage: 1.2+ MB\n"
     ]
    }
   ],
   "source": [
    "df.info()"
   ]
  },
  {
   "cell_type": "code",
   "execution_count": 4,
   "metadata": {},
   "outputs": [
    {
     "data": {
      "text/html": [
       "<div>\n",
       "<style scoped>\n",
       "    .dataframe tbody tr th:only-of-type {\n",
       "        vertical-align: middle;\n",
       "    }\n",
       "\n",
       "    .dataframe tbody tr th {\n",
       "        vertical-align: top;\n",
       "    }\n",
       "\n",
       "    .dataframe thead th {\n",
       "        text-align: right;\n",
       "    }\n",
       "</style>\n",
       "<table border=\"1\" class=\"dataframe\">\n",
       "  <thead>\n",
       "    <tr style=\"text-align: right;\">\n",
       "      <th></th>\n",
       "      <th>Case no.</th>\n",
       "      <th>Report date</th>\n",
       "      <th>Date of onset</th>\n",
       "      <th>Gender</th>\n",
       "      <th>Age</th>\n",
       "      <th>Name of hospital admitted</th>\n",
       "      <th>Hospitalised/Discharged/Deceased</th>\n",
       "      <th>HK/Non-HK resident</th>\n",
       "      <th>Classification*</th>\n",
       "      <th>Case status*</th>\n",
       "    </tr>\n",
       "  </thead>\n",
       "  <tbody>\n",
       "    <tr>\n",
       "      <th>0</th>\n",
       "      <td>1</td>\n",
       "      <td>23/1/2020</td>\n",
       "      <td>21/1/2020</td>\n",
       "      <td>M</td>\n",
       "      <td>39</td>\n",
       "      <td>NaN</td>\n",
       "      <td>Discharged</td>\n",
       "      <td>Non-HK resident</td>\n",
       "      <td>Imported case</td>\n",
       "      <td>Confirmed</td>\n",
       "    </tr>\n",
       "    <tr>\n",
       "      <th>1</th>\n",
       "      <td>2</td>\n",
       "      <td>23/1/2020</td>\n",
       "      <td>18/1/2020</td>\n",
       "      <td>M</td>\n",
       "      <td>56</td>\n",
       "      <td>NaN</td>\n",
       "      <td>Discharged</td>\n",
       "      <td>HK resident</td>\n",
       "      <td>Imported case</td>\n",
       "      <td>Confirmed</td>\n",
       "    </tr>\n",
       "    <tr>\n",
       "      <th>2</th>\n",
       "      <td>3</td>\n",
       "      <td>24/1/2020</td>\n",
       "      <td>20/1/2020</td>\n",
       "      <td>F</td>\n",
       "      <td>62</td>\n",
       "      <td>NaN</td>\n",
       "      <td>Discharged</td>\n",
       "      <td>Non-HK resident</td>\n",
       "      <td>Imported case</td>\n",
       "      <td>Confirmed</td>\n",
       "    </tr>\n",
       "    <tr>\n",
       "      <th>3</th>\n",
       "      <td>4</td>\n",
       "      <td>24/1/2020</td>\n",
       "      <td>23/1/2020</td>\n",
       "      <td>F</td>\n",
       "      <td>62</td>\n",
       "      <td>NaN</td>\n",
       "      <td>Discharged</td>\n",
       "      <td>Non-HK resident</td>\n",
       "      <td>Imported case</td>\n",
       "      <td>Confirmed</td>\n",
       "    </tr>\n",
       "    <tr>\n",
       "      <th>4</th>\n",
       "      <td>5</td>\n",
       "      <td>24/1/2020</td>\n",
       "      <td>23/1/2020</td>\n",
       "      <td>M</td>\n",
       "      <td>63</td>\n",
       "      <td>NaN</td>\n",
       "      <td>Discharged</td>\n",
       "      <td>Non-HK resident</td>\n",
       "      <td>Imported case</td>\n",
       "      <td>Confirmed</td>\n",
       "    </tr>\n",
       "  </tbody>\n",
       "</table>\n",
       "</div>"
      ],
      "text/plain": [
       "   Case no. Report date Date of onset Gender Age  Name of hospital admitted  \\\n",
       "0         1   23/1/2020     21/1/2020      M  39                        NaN   \n",
       "1         2   23/1/2020     18/1/2020      M  56                        NaN   \n",
       "2         3   24/1/2020     20/1/2020      F  62                        NaN   \n",
       "3         4   24/1/2020     23/1/2020      F  62                        NaN   \n",
       "4         5   24/1/2020     23/1/2020      M  63                        NaN   \n",
       "\n",
       "  Hospitalised/Discharged/Deceased HK/Non-HK resident Classification*  \\\n",
       "0                       Discharged    Non-HK resident   Imported case   \n",
       "1                       Discharged        HK resident   Imported case   \n",
       "2                       Discharged    Non-HK resident   Imported case   \n",
       "3                       Discharged    Non-HK resident   Imported case   \n",
       "4                       Discharged    Non-HK resident   Imported case   \n",
       "\n",
       "  Case status*  \n",
       "0    Confirmed  \n",
       "1    Confirmed  \n",
       "2    Confirmed  \n",
       "3    Confirmed  \n",
       "4    Confirmed  "
      ]
     },
     "execution_count": 4,
     "metadata": {},
     "output_type": "execute_result"
    }
   ],
   "source": [
    "df.head()"
   ]
  },
  {
   "cell_type": "code",
   "execution_count": 5,
   "metadata": {},
   "outputs": [],
   "source": [
    "# Remove unnecessary columns\n",
    "df.drop(['Name of hospital admitted'], axis=1, inplace=True)"
   ]
  },
  {
   "cell_type": "code",
   "execution_count": 6,
   "metadata": {},
   "outputs": [],
   "source": [
    "# Remove the deleted case\n",
    "indexCase = df.loc[df['Case status*'] == 'Deleted'].index\n",
    "df.drop(indexCase, inplace=True)"
   ]
  },
  {
   "cell_type": "code",
   "execution_count": 7,
   "metadata": {},
   "outputs": [
    {
     "data": {
      "text/plain": [
       "array(['39', '56', '62', '63', '47', '68', '64', '73', '72', '37', '75',\n",
       "       '80', '60', '25', '28', '55', '65', '58', '42', '24', '70', '91',\n",
       "       '57', '22', '50', '51', '23', '69', '86', '52', '59', '71', '66',\n",
       "       '43', '67', '41', '61', '54', '45', '46', '32', '83', '38', '48',\n",
       "       '96', '76', '35', '33', '49', '21', '16', '29', '26', '89', '79',\n",
       "       '84', '44', '36', '31', '1', '30', '18', '27', '34', '20', '12',\n",
       "       '19', '40', '4', '13', '17', '15', '11', '74', '78', '7', '14',\n",
       "       '77', '53', '<1', '2', '93', '6', '3', '8', '5', '10', '9', '85',\n",
       "       '92', '95', '87', '90', '94', '82', '88', '81', '97', '100', '98',\n",
       "       'Pending'], dtype=object)"
      ]
     },
     "execution_count": 7,
     "metadata": {},
     "output_type": "execute_result"
    }
   ],
   "source": [
    "# Check any unusal values in age\n",
    "df['Age'].unique()"
   ]
  },
  {
   "cell_type": "code",
   "execution_count": 12,
   "metadata": {},
   "outputs": [],
   "source": [
    "# Replace the <1 to 1\n",
    "df.loc[df['Age'] == '<1', 'Age'] = 1\n",
    "\n",
    "# Remove the age column with 'pending' value\n",
    "indexAge = df.loc[df['Age'] == 'Pending'].index\n",
    "df.drop(indexAge, inplace=True)\n",
    "\n",
    "df['Age'] = df['Age'].astype('int64')\n"
   ]
  },
  {
   "cell_type": "code",
   "execution_count": 13,
   "metadata": {},
   "outputs": [
    {
     "name": "stdout",
     "output_type": "stream",
     "text": [
      "<class 'pandas.core.frame.DataFrame'>\n",
      "Int64Index: 15429 entries, 0 to 15440\n",
      "Data columns (total 9 columns):\n",
      " #   Column                            Non-Null Count  Dtype \n",
      "---  ------                            --------------  ----- \n",
      " 0   Case no.                          15429 non-null  int64 \n",
      " 1   Report date                       15429 non-null  object\n",
      " 2   Date of onset                     15415 non-null  object\n",
      " 3   Gender                            15429 non-null  object\n",
      " 4   Age                               15429 non-null  int64 \n",
      " 5   Hospitalised/Discharged/Deceased  15429 non-null  object\n",
      " 6   HK/Non-HK resident                15429 non-null  object\n",
      " 7   Classification*                   15429 non-null  object\n",
      " 8   Case status*                      15429 non-null  object\n",
      "dtypes: int64(2), object(7)\n",
      "memory usage: 1.7+ MB\n"
     ]
    }
   ],
   "source": [
    "df.info()"
   ]
  },
  {
   "cell_type": "code",
   "execution_count": 14,
   "metadata": {},
   "outputs": [
    {
     "data": {
      "text/html": [
       "<div>\n",
       "<style scoped>\n",
       "    .dataframe tbody tr th:only-of-type {\n",
       "        vertical-align: middle;\n",
       "    }\n",
       "\n",
       "    .dataframe tbody tr th {\n",
       "        vertical-align: top;\n",
       "    }\n",
       "\n",
       "    .dataframe thead th {\n",
       "        text-align: right;\n",
       "    }\n",
       "</style>\n",
       "<table border=\"1\" class=\"dataframe\">\n",
       "  <thead>\n",
       "    <tr style=\"text-align: right;\">\n",
       "      <th></th>\n",
       "      <th>Case no.</th>\n",
       "      <th>Report date</th>\n",
       "      <th>Date of onset</th>\n",
       "      <th>Gender</th>\n",
       "      <th>Age</th>\n",
       "      <th>Hospitalised/Discharged/Deceased</th>\n",
       "      <th>HK/Non-HK resident</th>\n",
       "      <th>Classification*</th>\n",
       "      <th>Case status*</th>\n",
       "    </tr>\n",
       "  </thead>\n",
       "  <tbody>\n",
       "    <tr>\n",
       "      <th>0</th>\n",
       "      <td>1</td>\n",
       "      <td>23/1/2020</td>\n",
       "      <td>21/1/2020</td>\n",
       "      <td>M</td>\n",
       "      <td>39</td>\n",
       "      <td>Discharged</td>\n",
       "      <td>Non-HK resident</td>\n",
       "      <td>Imported case</td>\n",
       "      <td>Confirmed</td>\n",
       "    </tr>\n",
       "    <tr>\n",
       "      <th>1</th>\n",
       "      <td>2</td>\n",
       "      <td>23/1/2020</td>\n",
       "      <td>18/1/2020</td>\n",
       "      <td>M</td>\n",
       "      <td>56</td>\n",
       "      <td>Discharged</td>\n",
       "      <td>HK resident</td>\n",
       "      <td>Imported case</td>\n",
       "      <td>Confirmed</td>\n",
       "    </tr>\n",
       "    <tr>\n",
       "      <th>2</th>\n",
       "      <td>3</td>\n",
       "      <td>24/1/2020</td>\n",
       "      <td>20/1/2020</td>\n",
       "      <td>F</td>\n",
       "      <td>62</td>\n",
       "      <td>Discharged</td>\n",
       "      <td>Non-HK resident</td>\n",
       "      <td>Imported case</td>\n",
       "      <td>Confirmed</td>\n",
       "    </tr>\n",
       "    <tr>\n",
       "      <th>3</th>\n",
       "      <td>4</td>\n",
       "      <td>24/1/2020</td>\n",
       "      <td>23/1/2020</td>\n",
       "      <td>F</td>\n",
       "      <td>62</td>\n",
       "      <td>Discharged</td>\n",
       "      <td>Non-HK resident</td>\n",
       "      <td>Imported case</td>\n",
       "      <td>Confirmed</td>\n",
       "    </tr>\n",
       "    <tr>\n",
       "      <th>4</th>\n",
       "      <td>5</td>\n",
       "      <td>24/1/2020</td>\n",
       "      <td>23/1/2020</td>\n",
       "      <td>M</td>\n",
       "      <td>63</td>\n",
       "      <td>Discharged</td>\n",
       "      <td>Non-HK resident</td>\n",
       "      <td>Imported case</td>\n",
       "      <td>Confirmed</td>\n",
       "    </tr>\n",
       "  </tbody>\n",
       "</table>\n",
       "</div>"
      ],
      "text/plain": [
       "   Case no. Report date Date of onset Gender  Age  \\\n",
       "0         1   23/1/2020     21/1/2020      M   39   \n",
       "1         2   23/1/2020     18/1/2020      M   56   \n",
       "2         3   24/1/2020     20/1/2020      F   62   \n",
       "3         4   24/1/2020     23/1/2020      F   62   \n",
       "4         5   24/1/2020     23/1/2020      M   63   \n",
       "\n",
       "  Hospitalised/Discharged/Deceased HK/Non-HK resident Classification*  \\\n",
       "0                       Discharged    Non-HK resident   Imported case   \n",
       "1                       Discharged        HK resident   Imported case   \n",
       "2                       Discharged    Non-HK resident   Imported case   \n",
       "3                       Discharged    Non-HK resident   Imported case   \n",
       "4                       Discharged    Non-HK resident   Imported case   \n",
       "\n",
       "  Case status*  \n",
       "0    Confirmed  \n",
       "1    Confirmed  \n",
       "2    Confirmed  \n",
       "3    Confirmed  \n",
       "4    Confirmed  "
      ]
     },
     "execution_count": 14,
     "metadata": {},
     "output_type": "execute_result"
    }
   ],
   "source": [
    "df.head()"
   ]
  },
  {
   "cell_type": "code",
   "execution_count": 23,
   "metadata": {},
   "outputs": [
    {
     "data": {
      "text/plain": [
       "Confirmed       14865\n",
       "Asymptomatic      528\n",
       "Re-positive        10\n",
       "Pending             5\n",
       "Unknown             1\n",
       "Name: Case status*, dtype: int64"
      ]
     },
     "execution_count": 23,
     "metadata": {},
     "output_type": "execute_result"
    }
   ],
   "source": [
    "df['Case status*'].value_counts()"
   ]
  },
  {
   "cell_type": "code",
   "execution_count": 20,
   "metadata": {},
   "outputs": [],
   "source": [
    "# Drop the resident pending status case\n",
    "indexResident = df.loc[df['HK/Non-HK resident'] == 'Pending'].index\n",
    "df.drop(indexResident, inplace=True)"
   ]
  },
  {
   "cell_type": "code",
   "execution_count": null,
   "metadata": {},
   "outputs": [],
   "source": [
    "df.to_csv('cleaned_enhanced_sur_covid_19_eng.csv')"
   ]
  },
  {
   "cell_type": "code",
   "execution_count": null,
   "metadata": {},
   "outputs": [],
   "source": []
  }
 ],
 "metadata": {
  "kernelspec": {
   "display_name": "base",
   "language": "python",
   "name": "python3"
  },
  "language_info": {
   "codemirror_mode": {
    "name": "ipython",
    "version": 3
   },
   "file_extension": ".py",
   "mimetype": "text/x-python",
   "name": "python",
   "nbconvert_exporter": "python",
   "pygments_lexer": "ipython3",
   "version": "3.8.8"
  },
  "orig_nbformat": 4
 },
 "nbformat": 4,
 "nbformat_minor": 2
}
